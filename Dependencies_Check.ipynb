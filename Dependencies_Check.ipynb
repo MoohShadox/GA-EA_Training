{
 "cells": [
  {
   "cell_type": "code",
   "execution_count": 1,
   "metadata": {},
   "outputs": [
    {
     "name": "stderr",
     "output_type": "stream",
     "text": [
      "Using TensorFlow backend.\n"
     ]
    }
   ],
   "source": [
    "\n",
    "#Ils sont pas nombreux, j'ai just copié collé tous les import que j'ai pu faire avec répétitions.\n",
    "import numpy as np\n",
    "import matplotlib.pyplot as plt\n",
    "from sklearn.metrics import mean_squared_error\n",
    "from sklearn.datasets import load_boston\n",
    "from keras.models import Sequential\n",
    "from keras.layers import Dense, Activation\n",
    "import deap\n",
    "import cma\n",
    "from deap import cma\n",
    "from deap import creator , base , tools, algorithms\n",
    "import numpy as np\n",
    "import random\n",
    "import gym\n",
    "import numpy as np\n",
    "import cma\n",
    "import math\n",
    "import random\n",
    "\n",
    "import numpy\n",
    "import operator\n",
    "from deap import algorithms\n",
    "from deap import base\n",
    "from deap import creator\n",
    "from deap import tools\n",
    "from deap import gp\n",
    "\n",
    "#Trés optionnel\n",
    "import networkx as nx\n",
    "from IPython.display import Image, display"
   ]
  },
  {
   "cell_type": "code",
   "execution_count": null,
   "metadata": {},
   "outputs": [],
   "source": []
  }
 ],
 "metadata": {
  "kernelspec": {
   "display_name": "Python 3",
   "language": "python",
   "name": "python3"
  },
  "language_info": {
   "codemirror_mode": {
    "name": "ipython",
    "version": 3
   },
   "file_extension": ".py",
   "mimetype": "text/x-python",
   "name": "python",
   "nbconvert_exporter": "python",
   "pygments_lexer": "ipython3",
   "version": "3.7.4"
  }
 },
 "nbformat": 4,
 "nbformat_minor": 2
}
